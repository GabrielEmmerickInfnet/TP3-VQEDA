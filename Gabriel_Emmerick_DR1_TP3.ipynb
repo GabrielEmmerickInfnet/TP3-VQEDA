{
 "cells": [
  {
   "cell_type": "code",
   "execution_count": 1,
   "id": "09851747-13d9-4456-ab24-8cb1ed3d5999",
   "metadata": {},
   "outputs": [
    {
     "name": "stdout",
     "output_type": "stream",
     "text": [
      "[DIRETÓRIO] ./.ipynb_checkpoints\n",
      "[ARQUIVO] ./.ipynb_checkpoints\\Gabriel_Emmerick_DR1_TP3-checkpoint.ipynb\n",
      "[DIRETÓRIO] ./Gabriel\n",
      "[DIRETÓRIO] ./Gabriel\\infnet\n",
      "[DIRETÓRIO] ./Gabriel\\infnet\\tp3\n",
      "[ARQUIVO] ./Gabriel\\infnet\\tp3\\arquivo1.txt\n",
      "[DIRETÓRIO] ./Gabriel\\infnet\\tp3\\subdiretorio1\n",
      "[ARQUIVO] ./Gabriel\\infnet\\tp3\\subdiretorio1\\arquivo2.txt\n",
      "[DIRETÓRIO] ./Gabriel\\infnet\\tp3\\subdiretorio2\n",
      "[DIRETÓRIO] ./Gabriel\\infnet\\tp3\\subdiretorio2\\subsubdiretorio\n",
      "[ARQUIVO] ./Gabriel\\infnet\\tp3\\subdiretorio2\\subsubdiretorio\\arquivo3.txt\n",
      "[ARQUIVO] ./Gabriel_Emmerick_DR1_TP3.ipynb\n",
      "[ARQUIVO] ./Gabriel_Emmerick_DR2_TP3.docx\n",
      "[ARQUIVO] ./~$briel_Emmerick_DR2_TP3.docx\n",
      "[ARQUIVO] ./~WRL0003.tmp\n",
      "Estrutura de diretórios criada com sucesso!\n",
      "[ARQUIVO] Gabriel/infnet/tp3/arquivo1.txt\n",
      "[DIRETÓRIO] Gabriel/infnet/tp3/subdiretorio1\n",
      "[ARQUIVO] Gabriel/infnet/tp3/subdiretorio1\\arquivo2.txt\n",
      "[DIRETÓRIO] Gabriel/infnet/tp3/subdiretorio2\n",
      "[DIRETÓRIO] Gabriel/infnet/tp3/subdiretorio2\\subsubdiretorio\n",
      "[ARQUIVO] Gabriel/infnet/tp3/subdiretorio2\\subsubdiretorio\\arquivo3.txt\n"
     ]
    }
   ],
   "source": [
    "#Exercício 1\n",
    "import os\n",
    "\n",
    "def listar_arquivos_e_diretorios(caminho):\n",
    "    try:\n",
    "        # Lista todos os itens no diretório\n",
    "        itens = os.listdir(caminho)\n",
    "        for item in itens:\n",
    "            caminho_completo = os.path.join(caminho, item)  # Obtem o caminho completo do item\n",
    "            \n",
    "            if os.path.isdir(caminho_completo):  # Se for um diretório\n",
    "                print(f\"[DIRETÓRIO] {caminho_completo}\")\n",
    "                listar_arquivos_e_diretorios(caminho_completo)  # Chamada recursiva para subdiretórios\n",
    "            else:  # Se for um arquivo\n",
    "                print(f\"[ARQUIVO] {caminho_completo}\")\n",
    "    except PermissionError:\n",
    "        print(f\"Permissão negada para acessar: {caminho}\")\n",
    "    except FileNotFoundError:\n",
    "        print(f\"Diretório não encontrado: {caminho}\")\n",
    "\n",
    "# Testando a função\n",
    "diretorio_teste = \"./\"  # Caminho base para testes\n",
    "listar_arquivos_e_diretorios(diretorio_teste)\n",
    "\n",
    "import os\n",
    "\n",
    "def criar_exemplo_diretorio():\n",
    "    estrutura = [\n",
    "        \"Gabriel/infnet/tp3/arquivo1.txt\",\n",
    "        \"Gabriel/infnet/tp3/subdiretorio1/arquivo2.txt\",\n",
    "        \"Gabriel/infnet/tp3/subdiretorio2/subsubdiretorio/arquivo3.txt\"\n",
    "    ]\n",
    "    \n",
    "    for caminho in estrutura:\n",
    "        diretorio = os.path.dirname(caminho)  # Extrai o caminho do diretório\n",
    "        if not os.path.exists(diretorio):\n",
    "            os.makedirs(diretorio)  # Cria o diretório se ele não existir\n",
    "        \n",
    "        # Cria um arquivo vazio para o exemplo\n",
    "        with open(caminho, 'w') as arquivo:\n",
    "            arquivo.write(f\"Conteúdo do {os.path.basename(caminho)}\")\n",
    "    print(\"Estrutura de diretórios criada com sucesso!\")\n",
    "\n",
    "# Chamando a função para criar a estrutura\n",
    "criar_exemplo_diretorio()\n",
    "\n",
    "# Chamando a função listar_arquivos_e_diretorios no diretório criado\n",
    "diretorio_teste = \"Gabriel/infnet/tp3/\"\n",
    "listar_arquivos_e_diretorios(diretorio_teste)"
   ]
  },
  {
   "cell_type": "code",
   "execution_count": 2,
   "id": "ccdbcd9b-3b96-4040-b196-e0d265c0ee62",
   "metadata": {},
   "outputs": [
    {
     "name": "stdout",
     "output_type": "stream",
     "text": [
      "Mover disco 1 de Origem para Destino\n",
      "Mover disco 2 de Origem para Auxiliar\n",
      "Mover disco 1 de Destino para Auxiliar\n",
      "Mover disco 3 de Origem para Destino\n",
      "Mover disco 1 de Auxiliar para Origem\n",
      "Mover disco 2 de Auxiliar para Destino\n",
      "Mover disco 1 de Origem para Destino\n"
     ]
    }
   ],
   "source": [
    "#Exercício 3\n",
    "def torre_de_hanoi(n, origem, destino, auxiliar):\n",
    "    \"\"\"\n",
    "    Torre de Hanói.\n",
    "    \n",
    "    :param n: Número de discos\n",
    "    :param origem: Pino de origem\n",
    "    :param destino: Pino de destino\n",
    "    :param auxiliar: Pino auxiliar\n",
    "    \"\"\"\n",
    "    if n == 1:\n",
    "        print(f\"Mover disco 1 de {origem} para {destino}\")\n",
    "        return\n",
    "    \n",
    "    # Mover n-1 discos da origem para o auxiliar usando o destino\n",
    "    torre_de_hanoi(n - 1, origem, auxiliar, destino)\n",
    "    \n",
    "    # Mover o disco n da origem para o destino\n",
    "    print(f\"Mover disco {n} de {origem} para {destino}\")\n",
    "    \n",
    "    # Mover n-1 discos do auxiliar para o destino usando a origem\n",
    "    torre_de_hanoi(n - 1, auxiliar, destino, origem)\n",
    "    \n",
    "# Teste\n",
    "num_discos = 3\n",
    "torre_de_hanoi(num_discos, \"Origem\", \"Destino\", \"Auxiliar\")\n"
   ]
  },
  {
   "cell_type": "code",
   "execution_count": 3,
   "id": "7500a455-69c7-4ea3-996b-405724dde1ff",
   "metadata": {},
   "outputs": [],
   "source": [
    "#Exercício 4\n",
    "def fibonacci(n):\n",
    "    if n <= 1:\n",
    "        return n\n",
    "    return fibonacci(n - 1) + fibonacci(n - 2)\n",
    "\n",
    "#Finonacci: O algoritmo divide o problema em dois subproblemas menores: Calcula fibonacci(n-1) e fibonacci(n-2).\n",
    "#Para cada chamada de Fibonacci, são feitas duas chamadas recursivas adicionais, criando uma árvore de chamadas exponencial.\n",
    "#Cada nível da recursão faz duas chamadas adicionais. O número de chamadas cresce exponencialmente com n.\n",
    "#O espaço é determinado pela profundidade máxima da pilha de chamadas. No pior caso, n chamadas são empilhadas.\n",
    "\n",
    "def fatorial(n):\n",
    "    if n == 0 or n == 1:\n",
    "        return 1\n",
    "    return n * fatorial(n - 1)\n",
    "#O Fatorial multiplica n pelo resultado do fatorial de n−1.É uma recursão linear, com apenas uma chamada recursiva por nível.\n",
    "#O algoritmo realiza n chamadas recursivas, com cada uma realizando uma operação constante.\n",
    "#A profundidade máxima da pilha de chamadas é n, pois a função empilha uma chamada para cada valor de n até atingir o caso base.\n"
   ]
  },
  {
   "cell_type": "code",
   "execution_count": 4,
   "id": "8b973ab3-6687-4819-9e8e-7934089912e7",
   "metadata": {},
   "outputs": [
    {
     "name": "stdout",
     "output_type": "stream",
     "text": [
      "Lista original: [34, 7, 23, 32, 5, 62, 23, 1]\n",
      "Lista ordenada: [1, 5, 7, 23, 23, 32, 34, 62]\n"
     ]
    }
   ],
   "source": [
    "#Exercício 5\n",
    "def quicksort(arr):\n",
    "    \"\"\"\n",
    "    Implementação recursiva do QuickSort para ordenar uma lista.\n",
    "    \n",
    "    :param arr: Lista de elementos a ser ordenada\n",
    "    :return: Lista ordenada\n",
    "    \"\"\"\n",
    "    if len(arr) <= 1:\n",
    "        # Caso base: listas com 0 ou 1 elemento já estão ordenadas\n",
    "        return arr\n",
    "    \n",
    "    # Escolhendo o pivô (neste caso, o primeiro elemento)\n",
    "    pivô = arr[0]\n",
    "    \n",
    "    # Particionando os elementos em relação ao pivô\n",
    "    menores = [x for x in arr[1:] if x <= pivô]  # Elementos menores ou iguais ao pivô\n",
    "    maiores = [x for x in arr[1:] if x > pivô]   # Elementos maiores que o pivô\n",
    "    \n",
    "    # Recursão para ordenar as sublistas menores e maiores\n",
    "    return quicksort(menores) + [pivô] + quicksort(maiores)\n",
    "\n",
    "# Lista desordenada para teste\n",
    "lista = [34, 7, 23, 32, 5, 62, 23, 1]\n",
    "\n",
    "# Ordenando a lista com QuickSort\n",
    "lista_ordenada = quicksort(lista)\n",
    "print(\"Lista original:\", lista)\n",
    "print(\"Lista ordenada:\", lista_ordenada)"
   ]
  },
  {
   "cell_type": "code",
   "execution_count": 5,
   "id": "4a2e24a1-ba8d-4ba5-9a51-d8c76241eb07",
   "metadata": {},
   "outputs": [
    {
     "name": "stdout",
     "output_type": "stream",
     "text": [
      "O 3º menor elemento é: 7\n"
     ]
    }
   ],
   "source": [
    "#Exercício 7\n",
    "def quickselect(arr, k):\n",
    "    \"\"\"\n",
    "    Encontra o k-ésimo menor elemento em uma lista desordenada.\n",
    "    \n",
    "    :param arr: Lista de elementos\n",
    "    :param k: Posição (1-based) do menor elemento desejado\n",
    "    :return: O k-ésimo menor elemento\n",
    "    \"\"\"\n",
    "    if len(arr) == 1:\n",
    "        return arr[0]\n",
    "    \n",
    "    # Escolha do pivô (neste caso, o primeiro elemento)\n",
    "    pivô = arr[0]\n",
    "    \n",
    "    # Particionando a lista\n",
    "    menores = [x for x in arr[1:] if x <= pivô]\n",
    "    maiores = [x for x in arr[1:] if x > pivô]\n",
    "    \n",
    "    # Índice do pivô na lista ordenada\n",
    "    tamanho_menores = len(menores)\n",
    "    \n",
    "    if k - 1 == tamanho_menores:\n",
    "        # O pivô é o k-ésimo menor elemento\n",
    "        return pivô\n",
    "    elif k - 1 < tamanho_menores:\n",
    "        # O k-ésimo menor está na sublista dos menores\n",
    "        return quickselect(menores, k)\n",
    "    else:\n",
    "        # O k-ésimo menor está na sublista dos maiores\n",
    "        return quickselect(maiores, k - tamanho_menores - 1)\n",
    "        \n",
    "# Lista desordenada para teste\n",
    "lista = [34, 7, 23, 32, 5, 62, 23, 1]\n",
    "\n",
    "# Encontrando o 3º menor elemento\n",
    "k = 3\n",
    "k_esimo_menor = quickselect(lista, k)\n",
    "print(f\"O {k}º menor elemento é: {k_esimo_menor}\")"
   ]
  },
  {
   "cell_type": "code",
   "execution_count": 6,
   "id": "1b1e1cbe-e396-43d4-9c19-339920de4a1c",
   "metadata": {},
   "outputs": [
    {
     "name": "stdout",
     "output_type": "stream",
     "text": [
      "30414093201713378043612608166064768844377641568960512000000000000\n"
     ]
    }
   ],
   "source": [
    "#Exercício 8 Exemplo: Fatorial com Tail Recursion\n",
    "def fatorial_tail(n, acumulador=1):\n",
    "    if n == 0 or n == 1:\n",
    "        return acumulador\n",
    "    return fatorial_tail(n - 1, acumulador * n)\n",
    "\n",
    "# Testando a função\n",
    "print(fatorial_tail(50))"
   ]
  },
  {
   "cell_type": "code",
   "execution_count": 7,
   "id": "4e1b9cae-653a-4724-b2fc-d915410c546b",
   "metadata": {},
   "outputs": [
    {
     "name": "stdout",
     "output_type": "stream",
     "text": [
      "Valores em ordem: [3, 5, 7, 10, 13, 15, 17]\n"
     ]
    }
   ],
   "source": [
    "#Exercício 9\n",
    "# Definindo a classe No\n",
    "class No:\n",
    "    \"\"\"\n",
    "    Representa um nó em uma árvore binária.\n",
    "    \"\"\"\n",
    "    def __init__(self, valor):\n",
    "        self.valor = valor\n",
    "        self.esquerda = None  # Filho esquerdo\n",
    "        self.direita = None   # Filho direito\n",
    "\n",
    "# Função para realizar o percurso in-order\n",
    "def percurso_in_order(no):\n",
    "    \"\"\"\n",
    "    Realiza o percurso in-order em uma árvore binária.\n",
    "    \n",
    "    :param no: Nó atual da árvore.\n",
    "    :return: Lista de valores em ordem.\n",
    "    \"\"\"\n",
    "    if no is None:\n",
    "        return []\n",
    "    \n",
    "    # Recursivamente percorre a subárvore esquerda, a raiz, e a subárvore direita\n",
    "    return percurso_in_order(no.esquerda) + [no.valor] + percurso_in_order(no.direita)\n",
    "\n",
    "# Criando a árvore\n",
    "raiz = No(10)\n",
    "raiz.esquerda = No(5)\n",
    "raiz.direita = No(15)\n",
    "raiz.esquerda.esquerda = No(3)\n",
    "raiz.esquerda.direita = No(7)\n",
    "raiz.direita.esquerda = No(13)\n",
    "raiz.direita.direita = No(17)\n",
    "\n",
    "# Realizando o percurso in-order\n",
    "valores_em_ordem = percurso_in_order(raiz)\n",
    "print(\"Valores em ordem:\", valores_em_ordem)"
   ]
  },
  {
   "cell_type": "code",
   "execution_count": null,
   "id": "73bbe2ae-d7a5-40b0-94f1-248c3e3b3e71",
   "metadata": {},
   "outputs": [],
   "source": [
    "#Exercício 11\n",
    "def fatorial_recursivo(n):\n",
    "    \"\"\"\n",
    "    Calcula o fatorial de um número usando recursão simples.\n",
    "    \"\"\"\n",
    "    if n == 0 or n == 1:\n",
    "        return 1\n",
    "    return n * fatorial_recursivo(n - 1)\n",
    "\n",
    "\n",
    "def fatorial_iterativo(n):\n",
    "    \"\"\"\n",
    "    Calcula o fatorial de um número usando um loop iterativo.\n",
    "    \"\"\"\n",
    "    resultado = 1\n",
    "    for i in range(1, n + 1):\n",
    "        resultado *= i\n",
    "    return resultado\n",
    "\n",
    "\n",
    "def fatorial_tail(n, acumulador=1):\n",
    "    \"\"\"\n",
    "    Calcula o fatorial usando recursão de cauda.\n",
    "    \"\"\"\n",
    "    if n == 0 or n == 1:\n",
    "        return acumulador\n",
    "    return fatorial_tail(n - 1, acumulador * n)\n",
    "\n",
    "\n",
    "# Testando as alternativas\n",
    "numero_grande = 3000\n",
    "\n",
    "print(\"Teste com recursão simples:\")\n",
    "try:\n",
    "    resultado_recursivo = fatorial_recursivo(numero_grande)\n",
    "    print(\"Fatorial (recursão simples):\", resultado_recursivo)\n",
    "except RecursionError:\n",
    "    print(\"Erro: Stack Overflow ocorreu na recursão simples!\")\n",
    "\n",
    "print(\"\\nTeste com recursão de cauda:\")\n",
    "try:\n",
    "    resultado_tail = fatorial_tail(numero_grande)\n",
    "    print(\"Fatorial (recursão de cauda):\", resultado_tail)\n",
    "except RecursionError:\n",
    "    print(\"Erro: Stack Overflow ocorreu na recursão de cauda!\")\n",
    "\n",
    "print(\"\\nTeste com algoritmo iterativo:\")\n",
    "try:\n",
    "    resultado_iterativo = fatorial_iterativo(numero_grande)\n",
    "    print(\"Fatorial (iterativo):\", resultado_iterativo)\n",
    "except Exception as e:\n",
    "    print(\"Erro inesperado na abordagem iterativa:\", e)"
   ]
  },
  {
   "cell_type": "code",
   "execution_count": 1,
   "id": "5e5ad90b-060b-4f91-af33-b202174fa017",
   "metadata": {},
   "outputs": [
    {
     "name": "stdout",
     "output_type": "stream",
     "text": [
      "Soma dos elementos da lista: 15\n"
     ]
    }
   ],
   "source": [
    "#Exercício 12\n",
    "def soma_recursiva(lista):\n",
    "    \"\"\"\n",
    "    Calcula a soma dos elementos de uma lista usando recursão.\n",
    "    \n",
    "    :param lista: Lista de números\n",
    "    :return: Soma dos elementos da lista\n",
    "    \"\"\"\n",
    "    if not lista:  # Caso base: lista vazia\n",
    "        return 0\n",
    "    # Soma o primeiro elemento com a soma do restante da lista\n",
    "    return lista[0] + soma_recursiva(lista[1:])\n",
    "    \n",
    "# Lista de exemplo\n",
    "lista = [1, 2, 3, 4, 5]\n",
    "\n",
    "# Calculando a soma usando a função recursiva\n",
    "resultado = soma_recursiva(lista)\n",
    "print(\"Soma dos elementos da lista:\", resultado)"
   ]
  },
  {
   "cell_type": "code",
   "execution_count": 2,
   "id": "8bc3a53e-7901-4674-a9ac-5fcf9b064939",
   "metadata": {},
   "outputs": [
    {
     "name": "stdout",
     "output_type": "stream",
     "text": [
      "A palavra 'radar' é um palíndromo? True\n",
      "A palavra 'ana' é um palíndromo? True\n",
      "A palavra 'palindromo' é um palíndromo? False\n",
      "A palavra 'level' é um palíndromo? True\n",
      "A palavra 'bca' é um palíndromo? False\n"
     ]
    }
   ],
   "source": [
    "#Exercício 13\n",
    "def eh_palindromo(palavra):\n",
    "    \"\"\"\n",
    "    Verifica se uma palavra é um palíndromo usando recursão.\n",
    "    \n",
    "    :param palavra: String a ser verificada\n",
    "    :return: True se for um palíndromo, False caso contrário\n",
    "    \"\"\"\n",
    "    # Caso base: Se a palavra tiver 0 ou 1 caractere, é um palíndromo\n",
    "    if len(palavra) <= 1:\n",
    "        return True\n",
    "    \n",
    "    # Verifica se o primeiro e o último caractere são diferentes\n",
    "    if palavra[0] != palavra[-1]:\n",
    "        return False\n",
    "    \n",
    "    # Chamada recursiva para o interior da palavra (sem o primeiro e o último caractere)\n",
    "    return eh_palindromo(palavra[1:-1])\n",
    "    \n",
    "# Palavras para teste\n",
    "palavras = [\"radar\", \"ana\", \"palindromo\", \"level\", \"bca\"]\n",
    "\n",
    "# Testando a função para verificar cada palavra\n",
    "for palavra in palavras:\n",
    "    resultado = eh_palindromo(palavra)\n",
    "    print(f\"A palavra '{palavra}' é um palíndromo? {resultado}\")"
   ]
  },
  {
   "cell_type": "code",
   "execution_count": 3,
   "id": "d18d465a-1a08-4278-9e7e-57dc7988c659",
   "metadata": {},
   "outputs": [
    {
     "name": "stdout",
     "output_type": "stream",
     "text": [
      "Soma da lista [1, 2, 3, 4]: 10\n"
     ]
    }
   ],
   "source": [
    "#Exercício 14\n",
    "def soma_lista(lista):\n",
    "    \"\"\"\n",
    "    Calcula a soma de todos os elementos de uma lista usando recursão.\n",
    "    \n",
    "    :param lista: Lista de números inteiros\n",
    "    :return: Soma dos elementos da lista\n",
    "    \"\"\"\n",
    "    # Caso base: Se a lista estiver vazia, a soma é 0\n",
    "    if not lista:\n",
    "        return 0\n",
    "    \n",
    "    # Soma o primeiro elemento com a soma recursiva dos elementos restantes\n",
    "    return lista[0] + soma_lista(lista[1:])\n",
    "    \n",
    "# Lista de exemplo\n",
    "lista_exemplo = [1, 2, 3, 4]\n",
    "\n",
    "# Calculando a soma usando a função recursiva\n",
    "resultado = soma_lista(lista_exemplo)\n",
    "print(f\"Soma da lista {lista_exemplo}: {resultado}\")"
   ]
  },
  {
   "cell_type": "code",
   "execution_count": 4,
   "id": "e10adb12-e5ae-4c34-8397-c8a80b692340",
   "metadata": {},
   "outputs": [
    {
     "name": "stdout",
     "output_type": "stream",
     "text": [
      "Ocorrências de 'a' em 'banana': 3\n",
      "Ocorrências de 'a' em 'abracadabra': 5\n",
      "Ocorrências de 'o' em 'hello world': 2\n",
      "Ocorrências de 'x' em 'testando': 0\n"
     ]
    }
   ],
   "source": [
    "#Exercício 15\n",
    "def contar_repeticoes(string, caractere):\n",
    "    \"\"\"\n",
    "    Conta o número de vezes que um caractere aparece em uma string usando recursão.\n",
    "    \n",
    "    :param string: String de entrada\n",
    "    :param caractere: Caractere a ser contado\n",
    "    :return: Número de ocorrências do caractere na string\n",
    "    \"\"\"\n",
    "    # Caso base: Se a string estiver vazia, retorna 0\n",
    "    if not string:\n",
    "        return 0\n",
    "    \n",
    "    # Verifica se o primeiro caractere é igual ao caractere desejado\n",
    "    contador = 1 if string[0] == caractere else 0\n",
    "    \n",
    "    # Soma o contador com o resultado da chamada recursiva para o restante da string\n",
    "    return contador + contar_repeticoes(string[1:], caractere)\n",
    "# Testando a função com exemplos\n",
    "exemplo_1 = contar_repeticoes(\"banana\", \"a\")\n",
    "exemplo_2 = contar_repeticoes(\"abracadabra\", \"a\")\n",
    "exemplo_3 = contar_repeticoes(\"hello world\", \"o\")\n",
    "exemplo_4 = contar_repeticoes(\"testando\", \"x\")\n",
    "\n",
    "# Imprimindo os resultados\n",
    "print(f\"Ocorrências de 'a' em 'banana': {exemplo_1}\")\n",
    "print(f\"Ocorrências de 'a' em 'abracadabra': {exemplo_2}\")\n",
    "print(f\"Ocorrências de 'o' em 'hello world': {exemplo_3}\")\n",
    "print(f\"Ocorrências de 'x' em 'testando': {exemplo_4}\")\n"
   ]
  },
  {
   "cell_type": "code",
   "execution_count": 5,
   "id": "4d08674e-50a1-4f42-9c33-f6fb0643ce18",
   "metadata": {},
   "outputs": [
    {
     "name": "stdout",
     "output_type": "stream",
     "text": [
      "Inverso de 'recursao': oasrucer\n",
      "Inverso de 'python': nohtyp\n",
      "Inverso de 'abcde': edcba\n",
      "Inverso de 'a': a\n"
     ]
    }
   ],
   "source": [
    "#Exercício 16\n",
    "def inverter_string(string):\n",
    "    \"\"\"\n",
    "    Inverte uma string usando recursão.\n",
    "    \n",
    "    :param string: String de entrada\n",
    "    :return: String invertida\n",
    "    \"\"\"\n",
    "    # Caso base: Se a string for vazia ou tiver um único caractere, retorna a própria string\n",
    "    if len(string) <= 1:\n",
    "        return string\n",
    "    \n",
    "    # Retorna o último caractere + chamada recursiva para o restante da string\n",
    "    return string[-1] + inverter_string(string[:-1])\n",
    "    \n",
    "# Testando a função com exemplos\n",
    "exemplo_1 = inverter_string(\"recursao\")\n",
    "exemplo_2 = inverter_string(\"python\")\n",
    "exemplo_3 = inverter_string(\"abcde\")\n",
    "exemplo_4 = inverter_string(\"a\")\n",
    "\n",
    "# Imprimindo os resultados\n",
    "print(f\"Inverso de 'recursao': {exemplo_1}\")\n",
    "print(f\"Inverso de 'python': {exemplo_2}\")\n",
    "print(f\"Inverso de 'abcde': {exemplo_3}\")\n",
    "print(f\"Inverso de 'a': {exemplo_4}\")"
   ]
  },
  {
   "cell_type": "code",
   "execution_count": null,
   "id": "8f86bfeb-88e5-4a98-bbfd-bcff221844df",
   "metadata": {},
   "outputs": [],
   "source": []
  }
 ],
 "metadata": {
  "kernelspec": {
   "display_name": "Python 3 (ipykernel)",
   "language": "python",
   "name": "python3"
  },
  "language_info": {
   "codemirror_mode": {
    "name": "ipython",
    "version": 3
   },
   "file_extension": ".py",
   "mimetype": "text/x-python",
   "name": "python",
   "nbconvert_exporter": "python",
   "pygments_lexer": "ipython3",
   "version": "3.9.13"
  }
 },
 "nbformat": 4,
 "nbformat_minor": 5
}
